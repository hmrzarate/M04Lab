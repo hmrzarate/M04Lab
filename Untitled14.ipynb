{
 "cells": [
  {
   "cell_type": "code",
   "execution_count": null,
   "id": "5e2a7efd",
   "metadata": {},
   "outputs": [],
   "source": [
    "#Heather Zarate\n",
    "#Module 4 Lab\n",
    "#09/19/2022\n",
    "\n",
    "from flask import Flask\n",
    "app = Flask(__name__)\n",
    "\n",
    "\n",
    "\n",
    "class Book(db.Model):\n",
    "    id = db.Column(db.Integer, primary_key=True)\n",
    "    title = db.Column(db.String(80), unique=True, nullable=False)\n",
    "    author = db.Column(db.String(120))\n",
    "    publisher = db.Column(db.String(120))\n",
    "\n",
    "    def __repr__(self):\n",
    "        return f\"{self.title} - {self.author} - {self.publisher}\"\n",
    "\n",
    "@app.route('/')\n",
    "def index():\n",
    "    return 'hello!'\n",
    "\n",
    "@app.route('/books')\n",
    "def get_books():\n",
    "\n",
    "    return {\"books\": \"book data\"}\n"
   ]
  }
 ],
 "metadata": {
  "kernelspec": {
   "display_name": "Python 3 (ipykernel)",
   "language": "python",
   "name": "python3"
  },
  "language_info": {
   "codemirror_mode": {
    "name": "ipython",
    "version": 3
   },
   "file_extension": ".py",
   "mimetype": "text/x-python",
   "name": "python",
   "nbconvert_exporter": "python",
   "pygments_lexer": "ipython3",
   "version": "3.9.12"
  }
 },
 "nbformat": 4,
 "nbformat_minor": 5
}
